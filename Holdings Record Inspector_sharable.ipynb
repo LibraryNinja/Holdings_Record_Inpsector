{
 "cells": [
  {
   "attachments": {},
   "cell_type": "markdown",
   "id": "3c655972",
   "metadata": {},
   "source": [
    "# Preliminary setup stuff:\n",
    "(Loading libraries, setting up dictionaries, asking for output filename, etc.)"
   ]
  },
  {
   "cell_type": "code",
   "execution_count": null,
   "id": "65d44256",
   "metadata": {},
   "outputs": [],
   "source": [
    "import requests\n",
    "import pandas as pd\n",
    "from bs4 import BeautifulSoup\n",
    "import re\n",
    "\n",
    "#Define empty dictionary for later\n",
    "dict = {}\n",
    "dict['mmsid'] = []\n",
    "dict['holdingid'] = []\n",
    "dict['location'] = []\n",
    "dict['852firstindicator'] = []\n",
    "dict['852secondindicator'] = []\n",
    "dict['callnumber'] = []\n",
    "dict['fullsubfieldh'] = []\n",
    "dict['subfieldicount'] = []\n",
    "dict['subfieldhspace'] = []\n",
    "dict['badsubfieldhpattern'] = []\n",
    "dict['subfieldk'] = []\n",
    "dict['subfieldl'] = []\n",
    "\n",
    "#Ask for an output filename for later use\n",
    "outputname = input('Enter output filename without extension: ')"
   ]
  },
  {
   "attachments": {},
   "cell_type": "markdown",
   "id": "7e0d7ef3",
   "metadata": {},
   "source": [
    "# Information for API call, including API key\n",
    "(You will need to provide your own API key)"
   ]
  },
  {
   "cell_type": "code",
   "execution_count": null,
   "id": "1d47be72",
   "metadata": {},
   "outputs": [],
   "source": [
    "#Set up default things for base URL and bib API key\n",
    "alma_base = 'https://api-na.hosted.exlibrisgroup.com/almaws/v1'\n",
    "#IZ Bibs read-only API key\n",
    "bibapi = 'INSERT YOUR BIBS API KEY HERE'\n",
    "headers = {\"Accept\": \"application/xml\"}"
   ]
  },
  {
   "attachments": {},
   "cell_type": "markdown",
   "id": "825cd39c",
   "metadata": {},
   "source": [
    "# Next section takes the input file and prepares it for use\n",
    "Note: I keep the MMS ID and Holdings ID in \"\"s until ready to use them so there's no chance of them getting messed up. The script removes those extra \"\"s."
   ]
  },
  {
   "cell_type": "code",
   "execution_count": null,
   "id": "4f420ff0",
   "metadata": {},
   "outputs": [],
   "source": [
    "inputname = input('MMSID Input Filename without extension: ')\n",
    "source = pd.read_excel(f\"{inputname}.xlsx\")\n",
    "lookupmms_raw=source['MMS Id'].astype(str)\n",
    "lookupholdid_raw=source['Holding Id'].astype(str)\n",
    "lookupcallno=source['Permanent Call Number'].astype(str)\n",
    "\n",
    "#Removes preventative \"\"s from MMS and Holdings ID information\n",
    "lookupmms = ([s.replace('\"', '') for s in lookupmms_raw])\n",
    "lookupholdid = ([t.replace('\"', '') for t in lookupholdid_raw])\n",
    "\n",
    "#Print just to make sure they look ok\n",
    "print(lookupmms[0])\n",
    "print(lookupholdid[0])\n",
    "print(lookupcallno[0])"
   ]
  },
  {
   "attachments": {},
   "cell_type": "markdown",
   "id": "b955f027",
   "metadata": {},
   "source": [
    "# Runs the loop to look up records"
   ]
  },
  {
   "cell_type": "code",
   "execution_count": null,
   "id": "4ac29b53",
   "metadata": {},
   "outputs": [],
   "source": [
    "for i, mms in enumerate(lookupmms, 0):\n",
    "    #sleep(randint(5,100))    \n",
    "\n",
    "    #Pulls in MMS and Holdings ID from input data, and appends those and the call number provided by analytics and puts those in the dictionary to keep things in order:\n",
    "   \n",
    "    mms = lookupmms[i]\n",
    "    dict['mmsid'].append(mms)\n",
    "    \n",
    "    holdid = lookupholdid[i]\n",
    "    dict['holdingid'].append(holdid)\n",
    "    \n",
    "    callno = lookupcallno[i]\n",
    "    dict['callnumber'].append(callno)\n",
    "    \n",
    "    #Print statement to let you know how many it's done and how much is left to do\n",
    "    print(f\"Processing {mms}, entry # {str(i+1)} of {str(len(lookupmms))}\")\n",
    "\n",
    "    #The API request itself\n",
    "    r = requests.get(f\"{alma_base}/bibs/{mms}/holdings/{holdid}?apikey={bibapi}\", headers=headers)\n",
    "\n",
    "    # Creating the Soup Object containing all data\n",
    "    soup = BeautifulSoup(r.content, \"xml\")\n",
    "    \n",
    "    #Grab indicators from 852 field\n",
    "    f852 = soup.find(\"datafield\", attrs={\"tag\": '852'})\n",
    "    \n",
    "    try:\n",
    "        firstind = f852['ind1']\n",
    "        print(firstind)\n",
    "        dict['852firstindicator'].append(firstind)\n",
    "    except TypeError:\n",
    "        firstind = \"error\"\n",
    "        print(firstind)\n",
    "        dict['852firstindicator'].append(firstind)\n",
    "    \n",
    "    try:\n",
    "        secondind = f852['ind2']\n",
    "        print(secondind)\n",
    "        dict['852secondindicator'].append(secondind)\n",
    "    except TypeError:\n",
    "        secondind = \"error\"\n",
    "        print(secondind)\n",
    "        dict['852secondindicator'].append(secondind)\n",
    "\n",
    "    #Get location code from 852 $c:\n",
    "    try: \n",
    "        #Grab location from subfield c in 852\n",
    "        subfieldc = f852.find(\"subfield\", attrs={\"code\": \"c\"}).getText()\n",
    "        print(subfieldc)    \n",
    "        dict['location'].append(subfieldc)\n",
    "    except AttributeError:\n",
    "        subfieldc = \"error\"\n",
    "        print(subfieldc)    \n",
    "        dict['location'].append(subfieldc)\n",
    "        \n",
    "    #Get the 852 $h    \n",
    "    try: \n",
    "        #Grab just subfield h in 852\n",
    "        subfieldh = f852.find(\"subfield\", attrs={\"code\": \"h\"}).getText()\n",
    "        print(subfieldh)    \n",
    "        dict['fullsubfieldh'].append(subfieldh)\n",
    "        \n",
    "        #Does $h start with spaces?\n",
    "        try:\n",
    "            findsubfieldh = f852.find(\"subfield\", attrs={\"code\": \"h\"}).getText()\n",
    "            subfieldhspacesmatch = re.match(r'^\\s', findsubfieldh)\n",
    "            if subfieldhspacesmatch is not None:\n",
    "                subfieldhspaces = True\n",
    "            else:\n",
    "                subfieldhspaces = False      \n",
    "            print(subfieldhspaces)\n",
    "            dict['subfieldhspace'].append(subfieldhspaces)\n",
    "        except AttributeError:\n",
    "            subfieldhspaces = \"Nothing found\"\n",
    "            dict['subfieldhspace'].append(subfieldhspaces)\n",
    "\n",
    "        #Are there extra spaces in the $h?\n",
    "        try:\n",
    "            subfieldhpatternmatch = re.match(r'([A-Z]+\\s)', findsubfieldh)\n",
    "            if subfieldhpatternmatch is not None:\n",
    "                subfieldhpattern = True\n",
    "            else:\n",
    "                subfieldhpattern = False\n",
    "            print(subfieldhpattern)\n",
    "            dict['badsubfieldhpattern'].append(subfieldhpattern)\n",
    "        except AttributeError:\n",
    "            subfieldhpattern = \"Nothing found\"\n",
    "            dict['badsubfieldhpattern'].append(subfieldhpattern)\n",
    "        \n",
    "    except AttributeError:\n",
    "        subfieldh = \"\"\n",
    "        print(subfieldh)    \n",
    "        dict['fullsubfieldh'].append(subfieldh)\n",
    "        subfieldhspaces = \"\"\n",
    "        dict['subfieldhspace'].append(subfieldhspaces)\n",
    "        subfieldhpattern = \"\"\n",
    "        dict['badsubfieldhpattern'].append(subfieldhpattern)\n",
    "\n",
    "\n",
    "    #Find out how many subfield Is there are in the 852\n",
    "    try:\n",
    "        findsubfieldi = f852.findAll(\"subfield\", attrs={\"code\": \"i\"})\n",
    "        howmanyIs = len(findsubfieldi)\n",
    "        print(howmanyIs)\n",
    "        dict['subfieldicount'].append(howmanyIs)\n",
    "    except AttributeError:\n",
    "        howmanyIs = 0\n",
    "        dict['subfieldicount'].append(howmanyIs)\n",
    "        \n",
    " \n",
    "    #Look to see if there are any 852 $k (call number prefix)    \n",
    "    try: \n",
    "        #Get $k if present\n",
    "        subfieldk = f852.find(\"subfield\", attrs={\"code\": \"k\"}).getText()\n",
    "        print(subfieldk)    \n",
    "        dict['subfieldk'].append(subfieldk)\n",
    "    except AttributeError:\n",
    "        subfieldk = \"\"\n",
    "        print(subfieldk)    \n",
    "        dict['subfieldk'].append(subfieldk)\n",
    "\n",
    "    #Look to see if there is already a $l in the 852 (and if so, what)    \n",
    "    try: \n",
    "        #Grab just subfield l in 852\n",
    "        subfieldl = f852.find(\"subfield\", attrs={\"code\": \"l\"}).getText()\n",
    "        print(subfieldl)    \n",
    "        dict['subfieldl'].append(subfieldl)\n",
    "    except AttributeError:\n",
    "        subfieldl = \"\"\n",
    "        print(subfieldl)    \n",
    "        dict['subfieldl'].append(subfieldl)"
   ]
  },
  {
   "attachments": {},
   "cell_type": "markdown",
   "id": "20dbed63",
   "metadata": {},
   "source": [
    "# Takes retrieved data and turns it into a useable Excel spreadsheet:"
   ]
  },
  {
   "cell_type": "code",
   "execution_count": null,
   "id": "20b73bc5",
   "metadata": {
    "scrolled": true
   },
   "outputs": [],
   "source": [
    "#Turn dictionary with all of the data into a dataframe\n",
    "df = pd.DataFrame(dict)\n",
    "df.head()"
   ]
  },
  {
   "cell_type": "code",
   "execution_count": null,
   "id": "1f5719d2",
   "metadata": {},
   "outputs": [],
   "source": [
    "#Exports dataframe to Excel using filename entered at top of script\n",
    "df.to_excel(f'{outputname}.xlsx', index=None)"
   ]
  }
 ],
 "metadata": {
  "kernelspec": {
   "display_name": "Python 3 (ipykernel)",
   "language": "python",
   "name": "python3"
  },
  "language_info": {
   "codemirror_mode": {
    "name": "ipython",
    "version": 3
   },
   "file_extension": ".py",
   "mimetype": "text/x-python",
   "name": "python",
   "nbconvert_exporter": "python",
   "pygments_lexer": "ipython3",
   "version": "3.9.1"
  },
  "varInspector": {
   "cols": {
    "lenName": 16,
    "lenType": 16,
    "lenVar": 40
   },
   "kernels_config": {
    "python": {
     "delete_cmd_postfix": "",
     "delete_cmd_prefix": "del ",
     "library": "var_list.py",
     "varRefreshCmd": "print(var_dic_list())"
    },
    "r": {
     "delete_cmd_postfix": ") ",
     "delete_cmd_prefix": "rm(",
     "library": "var_list.r",
     "varRefreshCmd": "cat(var_dic_list()) "
    }
   },
   "types_to_exclude": [
    "module",
    "function",
    "builtin_function_or_method",
    "instance",
    "_Feature"
   ],
   "window_display": false
  }
 },
 "nbformat": 4,
 "nbformat_minor": 5
}
